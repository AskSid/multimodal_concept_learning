{
 "cells": [
  {
   "cell_type": "code",
   "execution_count": 1,
   "id": "0553a743",
   "metadata": {},
   "outputs": [],
   "source": [
    "from PIL import Image\n",
    "import os\n",
    "import matplotlib.pyplot as plt\n",
    "from IPython.display import display"
   ]
  },
  {
   "cell_type": "code",
   "execution_count": 2,
   "id": "e5cd07f9",
   "metadata": {},
   "outputs": [],
   "source": [
    "data_dir = \"/users/sboppana/data/sboppana/data/multimodal_concept_learning/color\""
   ]
  },
  {
   "cell_type": "code",
   "execution_count": 11,
   "id": "faabe812",
   "metadata": {},
   "outputs": [],
   "source": [
    "def plot_dataset(dataset_name):\n",
    "    colors = os.listdir(os.path.join(data_dir, dataset_name))\n",
    "    color_names = []\n",
    "    for color in colors:\n",
    "        color_names.append(color)\n",
    "        if color.endswith(\".csv\"):\n",
    "            continue\n",
    "        images = os.listdir(os.path.join(data_dir, dataset_name, color))\n",
    "        first_image = images[0]\n",
    "        image_path = os.path.join(data_dir, dataset_name, color, first_image)\n",
    "        img = Image.open(image_path)\n",
    "        plt.imshow(img)\n",
    "        plt.title(color)\n",
    "        plt.axis('off')\n",
    "        plt.tight_layout()\n",
    "        plt.tight_layout()\n",
    "        plt.show()\n",
    "        plt.close()\n",
    "    return color_names"
   ]
  },
  {
   "cell_type": "code",
   "execution_count": null,
   "id": "4a6b65c8",
   "metadata": {},
   "outputs": [],
   "source": [
    "color_names = plot_dataset(\"96_colors_375\")\n"
   ]
  }
 ],
 "metadata": {
  "kernelspec": {
   "display_name": ".venv",
   "language": "python",
   "name": "python3"
  },
  "language_info": {
   "codemirror_mode": {
    "name": "ipython",
    "version": 3
   },
   "file_extension": ".py",
   "mimetype": "text/x-python",
   "name": "python",
   "nbconvert_exporter": "python",
   "pygments_lexer": "ipython3",
   "version": "3.13.5"
  }
 },
 "nbformat": 4,
 "nbformat_minor": 5
}
